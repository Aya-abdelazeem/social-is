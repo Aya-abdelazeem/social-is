{
 "cells": [
  {
   "cell_type": "code",
   "execution_count": 1,
   "id": "bbd5c672",
   "metadata": {},
   "outputs": [
    {
     "name": "stdout",
     "output_type": "stream",
     "text": [
      "hello from jupyter\n"
     ]
    }
   ],
   "source": [
    "print(\"Hello from jupyter\")"
   ]
  },
  {
   "cell_type": "code",
   "execution_count": 2,
   "id": "0a6d8073",
   "metadata": {},
   "outputs": [
    {
     "name": "stdout",
     "output_type": "stream",
     "text": [
      "aya\n",
      "20\n"
     ]
    }
   ],
   "source": [
    "my_str=\"aya\"\n",
    "my_int=20\n",
    "print(my_str)\n",
    "print(my_int)"
   ]
  },
  {
   "cell_type": "code",
   "execution_count": 3,
   "id": "f2afb7b7",
   "metadata": {},
   "outputs": [
    {
     "data": {
      "text/plain": [
       "'aya'"
      ]
     },
     "execution_count": 3,
     "metadata": {},
     "output_type": "execute_result"
    }
   ],
   "source": [
    "my_str"
   ]
  },
  {
   "cell_type": "code",
   "execution_count": 9,
   "id": "3d4d111f",
   "metadata": {},
   "outputs": [
    {
     "name": "stdout",
     "output_type": "stream",
     "text": [
      "you  have many apple\n"
     ]
    }
   ],
   "source": [
    "no_of_app=5\n",
    "if no_of_app<1:\n",
    "    print(\"you dont have any apple\")\n",
    "elif no_of_app==1:\n",
    "    print(\"you  have one apple\")\n",
    "elif no_of_app<4:\n",
    "    print(\"you  have few  apple\")\n",
    "else:\n",
    "    print(\"you  have many apple\")\n",
    "\n",
    "\n",
    "\n",
    "    \n"
   ]
  },
  {
   "cell_type": "code",
   "execution_count": 13,
   "id": "3991724d",
   "metadata": {},
   "outputs": [
    {
     "data": {
      "text/plain": [
       "'ayla'"
      ]
     },
     "execution_count": 13,
     "metadata": {},
     "output_type": "execute_result"
    }
   ],
   "source": [
    "name=[\"aya\",\"vardia\",\"omar\",\"ayla\"]\n",
    "name[3]\n"
   ]
  },
  {
   "cell_type": "code",
   "execution_count": 14,
   "id": "7b7747b5",
   "metadata": {},
   "outputs": [
    {
     "data": {
      "text/plain": [
       "'ayla'"
      ]
     },
     "execution_count": 14,
     "metadata": {},
     "output_type": "execute_result"
    }
   ],
   "source": [
    "name[-1]"
   ]
  },
  {
   "cell_type": "code",
   "execution_count": 17,
   "id": "41205010",
   "metadata": {},
   "outputs": [
    {
     "data": {
      "text/plain": [
       "['aya', 'vardia', 'omar', 'ayla']"
      ]
     },
     "execution_count": 17,
     "metadata": {},
     "output_type": "execute_result"
    }
   ],
   "source": [
    "name[0:4]"
   ]
  },
  {
   "cell_type": "code",
   "execution_count": 19,
   "id": "3e7920cc",
   "metadata": {},
   "outputs": [
    {
     "data": {
      "text/plain": [
       "['aya', 'vardia', 'omar', 'ayla']"
      ]
     },
     "execution_count": 19,
     "metadata": {},
     "output_type": "execute_result"
    }
   ],
   "source": [
    "name[:4]"
   ]
  },
  {
   "cell_type": "code",
   "execution_count": 27,
   "id": "ab797c8c",
   "metadata": {},
   "outputs": [],
   "source": [
    "name.append(\"sela\")\n",
    "name.append(\"sela\")"
   ]
  },
  {
   "cell_type": "code",
   "execution_count": 28,
   "id": "d07fc33e",
   "metadata": {},
   "outputs": [
    {
     "data": {
      "text/plain": [
       "['aya', 'vardia', 'Xavier', 'ayla', 'sela', 'sela', 'sela']"
      ]
     },
     "execution_count": 28,
     "metadata": {},
     "output_type": "execute_result"
    }
   ],
   "source": [
    "name"
   ]
  },
  {
   "cell_type": "code",
   "execution_count": 22,
   "id": "9e06cd84",
   "metadata": {},
   "outputs": [],
   "source": [
    "name.insert(2, 'Xavier')"
   ]
  },
  {
   "cell_type": "code",
   "execution_count": 26,
   "id": "d736791a",
   "metadata": {},
   "outputs": [
    {
     "data": {
      "text/plain": [
       "['aya', 'vardia', 'Xavier', 'ayla', 'sela']"
      ]
     },
     "execution_count": 26,
     "metadata": {},
     "output_type": "execute_result"
    }
   ],
   "source": [
    "name"
   ]
  },
  {
   "cell_type": "code",
   "execution_count": 25,
   "id": "54bfc1bc",
   "metadata": {},
   "outputs": [],
   "source": [
    "del name[3]"
   ]
  },
  {
   "cell_type": "code",
   "execution_count": 32,
   "id": "dbbcc134",
   "metadata": {},
   "outputs": [
    {
     "data": {
      "text/plain": [
       "['vardia', 'Xavier']"
      ]
     },
     "execution_count": 32,
     "metadata": {},
     "output_type": "execute_result"
    }
   ],
   "source": [
    "long_name=[]\n",
    "for item in name:\n",
    "    if len(item)>4:\n",
    "        long_name.append(item)\n",
    "long_name"
   ]
  },
  {
   "cell_type": "code",
   "execution_count": 33,
   "id": "0056209c",
   "metadata": {},
   "outputs": [
    {
     "data": {
      "text/plain": [
       "[('aya', 'aya'),\n",
       " ('aya', 'vardia'),\n",
       " ('aya', 'Xavier'),\n",
       " ('aya', 'ayla'),\n",
       " ('aya', 'sela'),\n",
       " ('aya', 'sela'),\n",
       " ('aya', 'sela'),\n",
       " ('vardia', 'aya'),\n",
       " ('vardia', 'vardia'),\n",
       " ('vardia', 'Xavier'),\n",
       " ('vardia', 'ayla'),\n",
       " ('vardia', 'sela'),\n",
       " ('vardia', 'sela'),\n",
       " ('vardia', 'sela'),\n",
       " ('Xavier', 'aya'),\n",
       " ('Xavier', 'vardia'),\n",
       " ('Xavier', 'Xavier'),\n",
       " ('Xavier', 'ayla'),\n",
       " ('Xavier', 'sela'),\n",
       " ('Xavier', 'sela'),\n",
       " ('Xavier', 'sela'),\n",
       " ('ayla', 'aya'),\n",
       " ('ayla', 'vardia'),\n",
       " ('ayla', 'Xavier'),\n",
       " ('ayla', 'ayla'),\n",
       " ('ayla', 'sela'),\n",
       " ('ayla', 'sela'),\n",
       " ('ayla', 'sela'),\n",
       " ('sela', 'aya'),\n",
       " ('sela', 'vardia'),\n",
       " ('sela', 'Xavier'),\n",
       " ('sela', 'ayla'),\n",
       " ('sela', 'sela'),\n",
       " ('sela', 'sela'),\n",
       " ('sela', 'sela'),\n",
       " ('sela', 'aya'),\n",
       " ('sela', 'vardia'),\n",
       " ('sela', 'Xavier'),\n",
       " ('sela', 'ayla'),\n",
       " ('sela', 'sela'),\n",
       " ('sela', 'sela'),\n",
       " ('sela', 'sela'),\n",
       " ('sela', 'aya'),\n",
       " ('sela', 'vardia'),\n",
       " ('sela', 'Xavier'),\n",
       " ('sela', 'ayla'),\n",
       " ('sela', 'sela'),\n",
       " ('sela', 'sela'),\n",
       " ('sela', 'sela')]"
      ]
     },
     "execution_count": 33,
     "metadata": {},
     "output_type": "execute_result"
    }
   ],
   "source": [
    "pairs=[]\n",
    "for item_0 in name:\n",
    "    for item_1 in name:\n",
    "        pairs.append((item_0,item_1))\n",
    "pairs"
   ]
  },
  {
   "cell_type": "code",
   "execution_count": 34,
   "id": "470d7cce",
   "metadata": {},
   "outputs": [
    {
     "data": {
      "text/plain": [
       "[('aya', 'vardia'),\n",
       " ('aya', 'Xavier'),\n",
       " ('aya', 'ayla'),\n",
       " ('aya', 'sela'),\n",
       " ('aya', 'sela'),\n",
       " ('aya', 'sela'),\n",
       " ('vardia', 'aya'),\n",
       " ('vardia', 'Xavier'),\n",
       " ('vardia', 'ayla'),\n",
       " ('vardia', 'sela'),\n",
       " ('vardia', 'sela'),\n",
       " ('vardia', 'sela'),\n",
       " ('Xavier', 'aya'),\n",
       " ('Xavier', 'vardia'),\n",
       " ('Xavier', 'ayla'),\n",
       " ('Xavier', 'sela'),\n",
       " ('Xavier', 'sela'),\n",
       " ('Xavier', 'sela'),\n",
       " ('ayla', 'aya'),\n",
       " ('ayla', 'vardia'),\n",
       " ('ayla', 'Xavier'),\n",
       " ('ayla', 'sela'),\n",
       " ('ayla', 'sela'),\n",
       " ('ayla', 'sela'),\n",
       " ('sela', 'aya'),\n",
       " ('sela', 'vardia'),\n",
       " ('sela', 'Xavier'),\n",
       " ('sela', 'ayla'),\n",
       " ('sela', 'aya'),\n",
       " ('sela', 'vardia'),\n",
       " ('sela', 'Xavier'),\n",
       " ('sela', 'ayla'),\n",
       " ('sela', 'aya'),\n",
       " ('sela', 'vardia'),\n",
       " ('sela', 'Xavier'),\n",
       " ('sela', 'ayla')]"
      ]
     },
     "execution_count": 34,
     "metadata": {},
     "output_type": "execute_result"
    }
   ],
   "source": [
    "pairs=[]\n",
    "for item_0 in name:\n",
    "    for item_1 in name:\n",
    "        if item_0 != item_1:\n",
    "                    pairs.append((item_0,item_1))\n",
    "\n",
    "pairs"
   ]
  },
  {
   "cell_type": "code",
   "execution_count": 35,
   "id": "268811d9",
   "metadata": {},
   "outputs": [
    {
     "data": {
      "text/plain": [
       "('ayla', 'math', 'A')"
      ]
     },
     "execution_count": 35,
     "metadata": {},
     "output_type": "execute_result"
    }
   ],
   "source": [
    "student_grade=(\"ayla\",\"math\",\"A\")\n",
    "student_grade"
   ]
  },
  {
   "cell_type": "code",
   "execution_count": 36,
   "id": "b3005819",
   "metadata": {},
   "outputs": [
    {
     "ename": "AttributeError",
     "evalue": "'tuple' object has no attribute 'append'",
     "output_type": "error",
     "traceback": [
      "\u001b[1;31m---------------------------------------------------------------------------\u001b[0m",
      "\u001b[1;31mAttributeError\u001b[0m                            Traceback (most recent call last)",
      "\u001b[1;32m~\\AppData\\Local\\Temp/ipykernel_356/4068718972.py\u001b[0m in \u001b[0;36m<module>\u001b[1;34m\u001b[0m\n\u001b[1;32m----> 1\u001b[1;33m \u001b[0mstudent_grade\u001b[0m\u001b[1;33m.\u001b[0m\u001b[0mappend\u001b[0m\u001b[1;33m(\u001b[0m\u001b[1;34m\"aya\"\u001b[0m\u001b[1;33m)\u001b[0m\u001b[1;33m\u001b[0m\u001b[1;33m\u001b[0m\u001b[0m\n\u001b[0m",
      "\u001b[1;31mAttributeError\u001b[0m: 'tuple' object has no attribute 'append'"
     ]
    }
   ],
   "source": [
    "student_grade.append(\"aya\")"
   ]
  },
  {
   "cell_type": "code",
   "execution_count": 37,
   "id": "7d4310ca",
   "metadata": {},
   "outputs": [
    {
     "ename": "TypeError",
     "evalue": "'tuple' object does not support item assignment",
     "output_type": "error",
     "traceback": [
      "\u001b[1;31m---------------------------------------------------------------------------\u001b[0m",
      "\u001b[1;31mTypeError\u001b[0m                                 Traceback (most recent call last)",
      "\u001b[1;32m~\\AppData\\Local\\Temp/ipykernel_356/3908365018.py\u001b[0m in \u001b[0;36m<module>\u001b[1;34m\u001b[0m\n\u001b[1;32m----> 1\u001b[1;33m \u001b[0mstudent_grade\u001b[0m\u001b[1;33m[\u001b[0m\u001b[1;36m2\u001b[0m\u001b[1;33m]\u001b[0m\u001b[1;33m=\u001b[0m\u001b[1;34m\"aya\"\u001b[0m\u001b[1;33m\u001b[0m\u001b[1;33m\u001b[0m\u001b[0m\n\u001b[0m",
      "\u001b[1;31mTypeError\u001b[0m: 'tuple' object does not support item assignment"
     ]
    }
   ],
   "source": [
    "student_grade[2]=\"aya\""
   ]
  },
  {
   "cell_type": "code",
   "execution_count": 38,
   "id": "a231bcc8",
   "metadata": {},
   "outputs": [
    {
     "ename": "TypeError",
     "evalue": "'tuple' object doesn't support item deletion",
     "output_type": "error",
     "traceback": [
      "\u001b[1;31m---------------------------------------------------------------------------\u001b[0m",
      "\u001b[1;31mTypeError\u001b[0m                                 Traceback (most recent call last)",
      "\u001b[1;32m~\\AppData\\Local\\Temp/ipykernel_356/3083881527.py\u001b[0m in \u001b[0;36m<module>\u001b[1;34m\u001b[0m\n\u001b[1;32m----> 1\u001b[1;33m \u001b[1;32mdel\u001b[0m \u001b[0mstudent_grade\u001b[0m\u001b[1;33m[\u001b[0m\u001b[1;36m2\u001b[0m\u001b[1;33m]\u001b[0m\u001b[1;33m\u001b[0m\u001b[1;33m\u001b[0m\u001b[0m\n\u001b[0m",
      "\u001b[1;31mTypeError\u001b[0m: 'tuple' object doesn't support item deletion"
     ]
    }
   ],
   "source": [
    "del student_grade[2]"
   ]
  },
  {
   "cell_type": "code",
   "execution_count": 39,
   "id": "f14004a1",
   "metadata": {},
   "outputs": [
    {
     "name": "stdout",
     "output_type": "stream",
     "text": [
      "ayla\n",
      "math\n",
      "A\n"
     ]
    }
   ],
   "source": [
    "s_grade=(\"ayla\",\"math\",\"A\")\n",
    "s_name,s_supject,grade=s_grade\n",
    "print(s_name)\n",
    "print(s_supject)\n",
    "print(grade)"
   ]
  },
  {
   "cell_type": "code",
   "execution_count": 16,
   "id": "e7ce2a50",
   "metadata": {},
   "outputs": [
    {
     "name": "stdout",
     "output_type": "stream",
     "text": [
      "congratulation  ayla on getting  A in Spanish\n",
      "congratulation  sela on getting  A- in Italian\n"
     ]
    }
   ],
   "source": [
    "s_grades = [\n",
    "    ('ayla', 'Spanish', 'A'),\n",
    "    ('aya', 'French', 'C'),\n",
    "    ('vardia', 'Italian', 'B+'),\n",
    "    ('sela', 'Italian', 'A-'),\n",
    "]\n",
    "for s_name,supject,grade in s_grades:\n",
    "    if grade.startswith('A'):\n",
    "        print(\"congratulation \",s_name,\"on getting \",grade,\"in\",supject)"
   ]
  },
  {
   "cell_type": "code",
   "execution_count": 46,
   "id": "a9c87c87",
   "metadata": {},
   "outputs": [
    {
     "name": "stdout",
     "output_type": "stream",
     "text": [
      "congratulation ayla on get A in Spanish\n",
      "congratulation sela on get A- in Italian\n"
     ]
    }
   ],
   "source": [
    "for student_grade in s_grades:\n",
    "    if student_grade[2].startswith('A'):\n",
    "        print(\"congratulation\",student_grade[0],\"on get\",student_grade[2],\"in\",student_grade[1])"
   ]
  },
  {
   "cell_type": "code",
   "execution_count": 1,
   "id": "31eff19a",
   "metadata": {},
   "outputs": [
    {
     "data": {
      "text/plain": [
       "'spanish'"
      ]
     },
     "execution_count": 1,
     "metadata": {},
     "output_type": "execute_result"
    }
   ],
   "source": [
    "f_language={\n",
    "    'ayla':'spanish',\n",
    "    'aya':'french',\n",
    "    'vardia':'italian',\n",
    "    'sela':'italian'\n",
    "}\n",
    "f_language['ayla']"
   ]
  },
  {
   "cell_type": "code",
   "execution_count": 2,
   "id": "58624da5",
   "metadata": {},
   "outputs": [
    {
     "ename": "KeyError",
     "evalue": "'v'",
     "output_type": "error",
     "traceback": [
      "\u001b[1;31m---------------------------------------------------------------------------\u001b[0m",
      "\u001b[1;31mKeyError\u001b[0m                                  Traceback (most recent call last)",
      "\u001b[1;32m~\\AppData\\Local\\Temp/ipykernel_5612/3111352823.py\u001b[0m in \u001b[0;36m<module>\u001b[1;34m\u001b[0m\n\u001b[1;32m----> 1\u001b[1;33m \u001b[0mf_language\u001b[0m\u001b[1;33m[\u001b[0m\u001b[1;34m'v'\u001b[0m\u001b[1;33m]\u001b[0m\u001b[1;33m\u001b[0m\u001b[1;33m\u001b[0m\u001b[0m\n\u001b[0m",
      "\u001b[1;31mKeyError\u001b[0m: 'v'"
     ]
    }
   ],
   "source": [
    "f_language['v']"
   ]
  },
  {
   "cell_type": "code",
   "execution_count": 4,
   "id": "f07b961c",
   "metadata": {},
   "outputs": [
    {
     "data": {
      "text/plain": [
       "False"
      ]
     },
     "execution_count": 4,
     "metadata": {},
     "output_type": "execute_result"
    }
   ],
   "source": [
    "'v' in f_language"
   ]
  },
  {
   "cell_type": "code",
   "execution_count": 5,
   "id": "a44466e4",
   "metadata": {},
   "outputs": [
    {
     "data": {
      "text/plain": [
       "True"
      ]
     },
     "execution_count": 5,
     "metadata": {},
     "output_type": "execute_result"
    }
   ],
   "source": [
    "'ayla'in f_language"
   ]
  },
  {
   "cell_type": "code",
   "execution_count": 7,
   "id": "b33e76a6",
   "metadata": {},
   "outputs": [
    {
     "data": {
      "text/plain": [
       "{'ayla': 'spanish',\n",
       " 'aya': 'french',\n",
       " 'vardia': 'italian',\n",
       " 'sela': 'italian',\n",
       " 'bob': 'korean'}"
      ]
     },
     "execution_count": 7,
     "metadata": {},
     "output_type": "execute_result"
    }
   ],
   "source": [
    "f_language['bob']=\"korean\"\n",
    "f_language"
   ]
  },
  {
   "cell_type": "code",
   "execution_count": 8,
   "id": "b74eb303",
   "metadata": {},
   "outputs": [
    {
     "data": {
      "text/plain": [
       "{'ayla': 'spanish',\n",
       " 'aya': 'french',\n",
       " 'vardia': 'italian',\n",
       " 'sela': 'italian',\n",
       " 'bob': 'korean',\n",
       " 'zeki': 'korean'}"
      ]
     },
     "execution_count": 8,
     "metadata": {},
     "output_type": "execute_result"
    }
   ],
   "source": [
    "f_language['zeki']=\"korean\"\n",
    "f_language"
   ]
  },
  {
   "cell_type": "code",
   "execution_count": 9,
   "id": "20522d1f",
   "metadata": {},
   "outputs": [
    {
     "data": {
      "text/plain": [
       "{'ayla': 'spanish',\n",
       " 'aya': 'french',\n",
       " 'vardia': 'italian',\n",
       " 'sela': 'italian',\n",
       " 'zeki': 'korean'}"
      ]
     },
     "execution_count": 9,
     "metadata": {},
     "output_type": "execute_result"
    }
   ],
   "source": [
    "del f_language['bob']\n",
    "f_language"
   ]
  },
  {
   "cell_type": "code",
   "execution_count": 10,
   "id": "9d3c0f45",
   "metadata": {},
   "outputs": [
    {
     "data": {
      "text/plain": [
       "{'ayla': 'korean',\n",
       " 'aya': 'french',\n",
       " 'vardia': 'italian',\n",
       " 'sela': 'italian',\n",
       " 'zeki': 'korean'}"
      ]
     },
     "execution_count": 10,
     "metadata": {},
     "output_type": "execute_result"
    }
   ],
   "source": [
    "f_language['ayla']=\"korean\"\n",
    "f_language"
   ]
  },
  {
   "cell_type": "code",
   "execution_count": 11,
   "id": "d4684e38",
   "metadata": {},
   "outputs": [
    {
     "name": "stdout",
     "output_type": "stream",
     "text": [
      "ayla is taking korean\n",
      "aya is taking french\n",
      "vardia is taking italian\n",
      "sela is taking italian\n",
      "zeki is taking korean\n"
     ]
    }
   ],
   "source": [
    "for key in f_language:\n",
    "    value=f_language[key]\n",
    "    print(key, \"is taking\",value)"
   ]
  },
  {
   "cell_type": "code",
   "execution_count": 13,
   "id": "42c2f5dd",
   "metadata": {},
   "outputs": [
    {
     "name": "stdout",
     "output_type": "stream",
     "text": [
      "ayla is taking korean\n",
      "aya is taking french\n",
      "vardia is taking italian\n",
      "sela is taking italian\n",
      "zeki is taking korean\n"
     ]
    }
   ],
   "source": [
    "for key,value in f_language.items():\n",
    "    print(key,\"is taking\",value)"
   ]
  },
  {
   "cell_type": "code",
   "execution_count": 14,
   "id": "657c98b0",
   "metadata": {},
   "outputs": [
    {
     "name": "stdout",
     "output_type": "stream",
     "text": [
      "ayla got grade A in  korean\n"
     ]
    }
   ],
   "source": [
    "record={\n",
    "    'name':'ayla',\n",
    "    'subject':'korean',\n",
    "    'grade':'A'\n",
    "}\n",
    "print(record['name'],\"got grade\",record['grade'],\"in \",record['subject'])"
   ]
  },
  {
   "cell_type": "code",
   "execution_count": 17,
   "id": "70396869",
   "metadata": {},
   "outputs": [
    {
     "data": {
      "text/plain": [
       "'C'"
      ]
     },
     "execution_count": 17,
     "metadata": {},
     "output_type": "execute_result"
    }
   ],
   "source": [
    "s_grades[1][2]"
   ]
  },
  {
   "cell_type": "code",
   "execution_count": 20,
   "id": "77f03c5b",
   "metadata": {},
   "outputs": [
    {
     "data": {
      "text/plain": [
       "[{'name': 'ayla', 'subject': 'korean', 'grade': 'A'},\n",
       " {'name': 'ayla', 'subject': 'korean', 'grade': 'A'},\n",
       " {'name': 'ayla', 'subject': 'korean', 'grade': 'A'},\n",
       " {'name': 'ayla', 'subject': 'korean', 'grade': 'A'}]"
      ]
     },
     "execution_count": 20,
     "metadata": {},
     "output_type": "execute_result"
    }
   ],
   "source": [
    "s_grade_record=[]\n",
    "for s_name,subject,grade in s_grades:\n",
    "    record1={\n",
    "        'name':s_name,\n",
    "        'subject':subject,\n",
    "        'grade':grade\n",
    "    }\n",
    "    s_grade_record.append(record)\n",
    "s_grade_record"
   ]
  },
  {
   "cell_type": "code",
   "execution_count": 21,
   "id": "4f2e95ae",
   "metadata": {},
   "outputs": [
    {
     "data": {
      "text/plain": [
       "{'name': 'ayla', 'subject': 'korean', 'grade': 'A'}"
      ]
     },
     "execution_count": 21,
     "metadata": {},
     "output_type": "execute_result"
    }
   ],
   "source": [
    "s_grade_record[1]"
   ]
  },
  {
   "cell_type": "code",
   "execution_count": 22,
   "id": "4ad29942",
   "metadata": {},
   "outputs": [
    {
     "data": {
      "text/plain": [
       "'A'"
      ]
     },
     "execution_count": 22,
     "metadata": {},
     "output_type": "execute_result"
    }
   ],
   "source": [
    "s_grade_record[1]['grade']"
   ]
  },
  {
   "cell_type": "code",
   "execution_count": 34,
   "id": "8167868d",
   "metadata": {},
   "outputs": [
    {
     "name": "stdout",
     "output_type": "stream",
     "text": [
      "congratulation  ayla on getting  A in korean\n",
      "congratulation  ayla on getting  A in korean\n",
      "congratulation  ayla on getting  A in korean\n",
      "congratulation  ayla on getting  A in korean\n"
     ]
    }
   ],
   "source": [
    "for record in s_grade_record:\n",
    "    if record['grade'].startswith('A'):\n",
    "               print(\"congratulation \",record['name'],\"on getting \",record['grade'],\"in\",record['subject'])\n"
   ]
  },
  {
   "cell_type": "code",
   "execution_count": 33,
   "id": "3a8e7acd",
   "metadata": {},
   "outputs": [
    {
     "data": {
      "text/plain": [
       "[{'name': 'ayla', 'subject': 'korean', 'grade': 'A'},\n",
       " {'name': 'ayla', 'subject': 'korean', 'grade': 'A'},\n",
       " {'name': 'ayla', 'subject': 'korean', 'grade': 'A'},\n",
       " {'name': 'ayla', 'subject': 'korean', 'grade': 'A'}]"
      ]
     },
     "execution_count": 33,
     "metadata": {},
     "output_type": "execute_result"
    }
   ],
   "source": [
    "s_grade_record"
   ]
  },
  {
   "cell_type": "code",
   "execution_count": 38,
   "id": "0eeea153",
   "metadata": {},
   "outputs": [
    {
     "data": {
      "text/plain": [
       "{'ayla': {'subject': 'Spanish', 'grade': 'A'},\n",
       " 'aya': {'subject': 'French', 'grade': 'C'},\n",
       " 'vardia': {'subject': 'Italian', 'grade': 'B+'},\n",
       " 'sela': {'subject': 'Italian', 'grade': 'A-'}}"
      ]
     },
     "execution_count": 38,
     "metadata": {},
     "output_type": "execute_result"
    }
   ],
   "source": [
    "f_language_grades = {}\n",
    "for student_name, subject, grade in s_grades:\n",
    "    record = {\n",
    "        'subject': subject,\n",
    "        'grade': grade,\n",
    "    }\n",
    "    f_language_grades[student_name] = record\n",
    "    \n",
    "f_language_grades"
   ]
  },
  {
   "cell_type": "code",
   "execution_count": 39,
   "id": "c1ad4e71",
   "metadata": {},
   "outputs": [
    {
     "data": {
      "text/plain": [
       "{'subject': 'Italian', 'grade': 'A-'}"
      ]
     },
     "execution_count": 39,
     "metadata": {},
     "output_type": "execute_result"
    }
   ],
   "source": [
    "f_language_grades['sela']"
   ]
  },
  {
   "cell_type": "code",
   "execution_count": 40,
   "id": "f551d60f",
   "metadata": {},
   "outputs": [
    {
     "data": {
      "text/plain": [
       "'A-'"
      ]
     },
     "execution_count": 40,
     "metadata": {},
     "output_type": "execute_result"
    }
   ],
   "source": [
    "f_language_grades['sela']['grade']"
   ]
  },
  {
   "cell_type": "code",
   "execution_count": 41,
   "id": "e74849df",
   "metadata": {},
   "outputs": [
    {
     "data": {
      "text/plain": [
       "{('ayla', 'Spanish'): 'A',\n",
       " ('aya', 'French'): 'C',\n",
       " ('vardia', 'Italian'): 'B+',\n",
       " ('sela', 'Italian'): 'A-'}"
      ]
     },
     "execution_count": 41,
     "metadata": {},
     "output_type": "execute_result"
    }
   ],
   "source": [
    "student_course_grades = {}\n",
    "for student_name, subject, grade in s_grades:\n",
    "    student_course_grades[student_name, subject] = grade\n",
    "    \n",
    "student_course_grades"
   ]
  },
  {
   "cell_type": "code",
   "execution_count": 42,
   "id": "9ab07310",
   "metadata": {},
   "outputs": [],
   "source": [
    "student_course_grades['Alice', 'Math'] = 'A'\n",
    "student_course_grades['Alice', 'History'] = 'B'"
   ]
  },
  {
   "cell_type": "code",
   "execution_count": 43,
   "id": "f1ab448d",
   "metadata": {},
   "outputs": [
    {
     "data": {
      "text/plain": [
       "{('ayla', 'Spanish'): 'A',\n",
       " ('aya', 'French'): 'C',\n",
       " ('vardia', 'Italian'): 'B+',\n",
       " ('sela', 'Italian'): 'A-',\n",
       " ('Alice', 'Math'): 'A',\n",
       " ('Alice', 'History'): 'B'}"
      ]
     },
     "execution_count": 43,
     "metadata": {},
     "output_type": "execute_result"
    }
   ],
   "source": [
    "student_course_grades\n"
   ]
  },
  {
   "cell_type": "code",
   "execution_count": 44,
   "id": "4d4b52af",
   "metadata": {},
   "outputs": [
    {
     "data": {
      "text/plain": [
       "{'ayla': {'Spanish': 'A'},\n",
       " 'aya': {'French': 'C'},\n",
       " 'vardia': {'Italian': 'B+'},\n",
       " 'sela': {'Italian': 'A-'}}"
      ]
     },
     "execution_count": 44,
     "metadata": {},
     "output_type": "execute_result"
    }
   ],
   "source": [
    "student_report_cards = {}\n",
    "for student_name, subject, grade in s_grades:\n",
    "    if student_name not in student_report_cards:\n",
    "        student_report_cards[student_name] = {}\n",
    "    student_report_cards[student_name][subject] = grade\n",
    "student_report_cards"
   ]
  },
  {
   "cell_type": "code",
   "execution_count": 46,
   "id": "fd6da287",
   "metadata": {},
   "outputs": [
    {
     "data": {
      "text/plain": [
       "{'ayla': {'Spanish': 'A', 'History': 'B'},\n",
       " 'aya': {'French': 'C'},\n",
       " 'vardia': {'Italian': 'B+'},\n",
       " 'sela': {'Italian': 'A-', 'Math': 'A'}}"
      ]
     },
     "execution_count": 46,
     "metadata": {},
     "output_type": "execute_result"
    }
   ],
   "source": [
    "student_report_cards['sela']['Math'] = 'A'\n",
    "student_report_cards['ayla']['History'] = 'B'\n",
    "student_report_cards\n"
   ]
  },
  {
   "cell_type": "code",
   "execution_count": 48,
   "id": "123102e3",
   "metadata": {},
   "outputs": [
    {
     "data": {
      "text/plain": [
       "{'Spanish': 'A', 'History': 'B'}"
      ]
     },
     "execution_count": 48,
     "metadata": {},
     "output_type": "execute_result"
    }
   ],
   "source": [
    "student_report_cards['ayla']\n"
   ]
  },
  {
   "cell_type": "code",
   "execution_count": null,
   "id": "cceff7ba",
   "metadata": {},
   "outputs": [],
   "source": []
  }
 ],
 "metadata": {
  "kernelspec": {
   "display_name": "Python 3 (ipykernel)",
   "language": "python",
   "name": "python3"
  },
  "language_info": {
   "codemirror_mode": {
    "name": "ipython",
    "version": 3
   },
   "file_extension": ".py",
   "mimetype": "text/x-python",
   "name": "python",
   "nbconvert_exporter": "python",
   "pygments_lexer": "ipython3",
   "version": "3.9.7"
  }
 },
 "nbformat": 4,
 "nbformat_minor": 5
}

{
 "cells": [
  {
   "cell_type": "code",
   "execution_count": 2,
   "id": "859c7ff0",
   "metadata": {},
   "outputs": [],
   "source": [
    "import networkx as nx\n"
   ]
  },
  {
   "cell_type": "code",
   "execution_count": 7,
   "id": "49f76021",
   "metadata": {},
   "outputs": [
    {
     "data": {
      "image/png": "[encoded data removed]",
      "text/plain": [
       "<Figure size 432x288 with 1 Axes>"
      ]
     },
     "metadata": {},
     "output_type": "display_data"
    }
   ],
   "source": [
    "G=nx.Graph()\n",
    "G.add_node('a')\n",
    "nodes_to_add=['b','c','d']\n",
    "G.add_nodes_from(nodes_to_add)\n",
    "G.add_edge('a','b')\n",
    "edges_to_add = [('a', 'c'), ('b', 'c'), ('c', 'd')]\n",
    "G.add_edges_from(edges_to_add)\n",
    "nx.draw(G, with_labels=True)"
   ]
  },
  {
   "cell_type": "code",
   "execution_count": 14,
   "id": "fcc30ec3",
   "metadata": {},
   "outputs": [
    {
     "data": {
      "image/png": "[encoded data removed]",
      "text/plain": [
       "<Figure size 432x288 with 1 Axes>"
      ]
     },
     "metadata": {},
     "output_type": "display_data"
    }
   ],
   "source": [
    "nx.draw(G,with_labels=True,\n",
    "        node_color='red',\n",
    "        node_size=1600,\n",
    "        font_color='white'\n",
    "       )"
   ]
  },
  {
   "cell_type": "code",
   "execution_count": 15,
   "id": "5035bf11",
   "metadata": {},
   "outputs": [
    {
     "data": {
      "text/plain": [
       "NodeView(('a', 'b', 'c', 'd'))"
      ]
     },
     "execution_count": 15,
     "metadata": {},
     "output_type": "execute_result"
    }
   ],
   "source": [
    "G.nodes()"
   ]
  },
  {
   "cell_type": "code",
   "execution_count": 16,
   "id": "a0fddcfa",
   "metadata": {},
   "outputs": [
    {
     "data": {
      "text/plain": [
       "EdgeView([('a', 'b'), ('a', 'c'), ('b', 'c'), ('c', 'd')])"
      ]
     },
     "execution_count": 16,
     "metadata": {},
     "output_type": "execute_result"
    }
   ],
   "source": [
    "G.edges()"
   ]
  },
  {
   "cell_type": "code",
   "execution_count": 17,
   "id": "091a9fd3",
   "metadata": {},
   "outputs": [
    {
     "name": "stdout",
     "output_type": "stream",
     "text": [
      "a\n",
      "b\n",
      "c\n",
      "d\n"
     ]
    }
   ],
   "source": [
    "for node in G.nodes:\n",
    "    print(node)"
   ]
  },
  {
   "cell_type": "code",
   "execution_count": 19,
   "id": "cec393e0",
   "metadata": {},
   "outputs": [
    {
     "name": "stdout",
     "output_type": "stream",
     "text": [
      "('a', 'b')\n",
      "('a', 'c')\n",
      "('b', 'c')\n",
      "('c', 'd')\n"
     ]
    }
   ],
   "source": [
    "for edge in G.edges:\n",
    "    print(edge)"
   ]
  },
  {
   "cell_type": "code",
   "execution_count": 20,
   "id": "e8ee7680",
   "metadata": {},
   "outputs": [
    {
     "data": {
      "text/plain": [
       "4"
      ]
     },
     "execution_count": 20,
     "metadata": {},
     "output_type": "execute_result"
    }
   ],
   "source": [
    "G.number_of_nodes()"
   ]
  },
  {
   "cell_type": "code",
   "execution_count": 21,
   "id": "b60fc982",
   "metadata": {},
   "outputs": [
    {
     "data": {
      "text/plain": [
       "4"
      ]
     },
     "execution_count": 21,
     "metadata": {},
     "output_type": "execute_result"
    }
   ],
   "source": [
    "G.number_of_edges()"
   ]
  },
  {
   "cell_type": "code",
   "execution_count": 22,
   "id": "5063a076",
   "metadata": {},
   "outputs": [
    {
     "data": {
      "text/plain": [
       "<dict_keyiterator at 0x2337e08fdb0>"
      ]
     },
     "execution_count": 22,
     "metadata": {},
     "output_type": "execute_result"
    }
   ],
   "source": [
    "G.neighbors('b')"
   ]
  },
  {
   "cell_type": "code",
   "execution_count": 24,
   "id": "4d27d042",
   "metadata": {},
   "outputs": [
    {
     "name": "stdout",
     "output_type": "stream",
     "text": [
      "a\n",
      "c\n"
     ]
    }
   ],
   "source": [
    "for neighbor in G.neighbors('b'):\n",
    "    print(neighbor)"
   ]
  },
  {
   "cell_type": "code",
   "execution_count": 25,
   "id": "1ac8a20a",
   "metadata": {},
   "outputs": [
    {
     "data": {
      "text/plain": [
       "['a', 'c']"
      ]
     },
     "execution_count": 25,
     "metadata": {},
     "output_type": "execute_result"
    }
   ],
   "source": [
    "list(G.neighbors('b'))"
   ]
  },
  {
   "cell_type": "code",
   "execution_count": 26,
   "id": "955491ab",
   "metadata": {},
   "outputs": [
    {
     "data": {
      "text/plain": [
       "False"
      ]
     },
     "execution_count": 26,
     "metadata": {},
     "output_type": "execute_result"
    }
   ],
   "source": [
    "nx.is_tree(G)"
   ]
  },
  {
   "cell_type": "code",
   "execution_count": 27,
   "id": "0d84a733",
   "metadata": {},
   "outputs": [
    {
     "data": {
      "text/plain": [
       "True"
      ]
     },
     "execution_count": 27,
     "metadata": {},
     "output_type": "execute_result"
    }
   ],
   "source": [
    "nx.is_connected(G)"
   ]
  },
  {
   "cell_type": "code",
   "execution_count": 28,
   "id": "daaaa994",
   "metadata": {},
   "outputs": [
    {
     "data": {
      "text/plain": [
       "True"
      ]
     },
     "execution_count": 28,
     "metadata": {},
     "output_type": "execute_result"
    }
   ],
   "source": [
    "G.has_node('a')"
   ]
  },
  {
   "cell_type": "code",
   "execution_count": 29,
   "id": "a70ebd86",
   "metadata": {},
   "outputs": [
    {
     "data": {
      "text/plain": [
       "False"
      ]
     },
     "execution_count": 29,
     "metadata": {},
     "output_type": "execute_result"
    }
   ],
   "source": [
    "G.has_node('x')"
   ]
  },
  {
   "cell_type": "code",
   "execution_count": 30,
   "id": "a6d6d3ce",
   "metadata": {},
   "outputs": [
    {
     "data": {
      "text/plain": [
       "True"
      ]
     },
     "execution_count": 30,
     "metadata": {},
     "output_type": "execute_result"
    }
   ],
   "source": [
    "'d' in G.nodes"
   ]
  },
  {
   "cell_type": "code",
   "execution_count": 31,
   "id": "c54bc797",
   "metadata": {},
   "outputs": [
    {
     "data": {
      "text/plain": [
       "True"
      ]
     },
     "execution_count": 31,
     "metadata": {},
     "output_type": "execute_result"
    }
   ],
   "source": [
    "G.has_edge('a','b')"
   ]
  },
  {
   "cell_type": "code",
   "execution_count": 32,
   "id": "90636f16",
   "metadata": {},
   "outputs": [
    {
     "data": {
      "text/plain": [
       "False"
      ]
     },
     "execution_count": 32,
     "metadata": {},
     "output_type": "execute_result"
    }
   ],
   "source": [
    "G.has_edge('a','d')"
   ]
  },
  {
   "cell_type": "code",
   "execution_count": 33,
   "id": "9037ec20",
   "metadata": {},
   "outputs": [
    {
     "data": {
      "text/plain": [
       "True"
      ]
     },
     "execution_count": 33,
     "metadata": {},
     "output_type": "execute_result"
    }
   ],
   "source": [
    "('c','d')in G.edges"
   ]
  },
  {
   "cell_type": "code",
   "execution_count": 34,
   "id": "b58426b5",
   "metadata": {},
   "outputs": [
    {
     "data": {
      "text/plain": [
       "2"
      ]
     },
     "execution_count": 34,
     "metadata": {},
     "output_type": "execute_result"
    }
   ],
   "source": [
    "len(list(G.neighbors('a')))"
   ]
  },
  {
   "cell_type": "code",
   "execution_count": 35,
   "id": "6e1798ba",
   "metadata": {},
   "outputs": [
    {
     "data": {
      "text/plain": [
       "2"
      ]
     },
     "execution_count": 35,
     "metadata": {},
     "output_type": "execute_result"
    }
   ],
   "source": [
    "G.degree('a')"
   ]
  },
  {
   "cell_type": "code",
   "execution_count": 44,
   "id": "93cf07f9",
   "metadata": {},
   "outputs": [
    {
     "data": {
      "text/plain": [
       "['SPIDER', 'Y', 'BANANA']"
      ]
     },
     "execution_count": 44,
     "metadata": {},
     "output_type": "execute_result"
    }
   ],
   "source": [
    "items=['spider','y','banana']\n",
    "[item.upper()for item in items]"
   ]
  },
  {
   "cell_type": "code",
   "execution_count": 47,
   "id": "6b94580e",
   "metadata": {},
   "outputs": [
    {
     "name": "stdout",
     "output_type": "stream",
     "text": [
      "['a', 'b', 'c', 'd']\n",
      "[2, 2, 3, 1]\n"
     ]
    }
   ],
   "source": [
    "print(G.nodes())\n",
    "print([G.degree(n) for n in G.nodes()])"
   ]
  },
  {
   "cell_type": "code",
   "execution_count": 50,
   "id": "37d748e4",
   "metadata": {},
   "outputs": [
    {
     "data": {
      "text/plain": [
       "[6, 1, 6]"
      ]
     },
     "execution_count": 50,
     "metadata": {},
     "output_type": "execute_result"
    }
   ],
   "source": [
    "g=(len(item)for item in items)\n",
    "list(g)"
   ]
  },
  {
   "cell_type": "code",
   "execution_count": 51,
   "id": "e8eda644",
   "metadata": {},
   "outputs": [
    {
     "data": {
      "text/plain": [
       "6"
      ]
     },
     "execution_count": 51,
     "metadata": {},
     "output_type": "execute_result"
    }
   ],
   "source": [
    "max(len(item)for item in items)"
   ]
  },
  {
   "cell_type": "code",
   "execution_count": 52,
   "id": "57ca8f7d",
   "metadata": {},
   "outputs": [
    {
     "data": {
      "text/plain": [
       "['BANANA', 'SPIDER', 'Y']"
      ]
     },
     "execution_count": 52,
     "metadata": {},
     "output_type": "execute_result"
    }
   ],
   "source": [
    "sorted(item.upper()for item in items)"
   ]
  },
  {
   "cell_type": "code",
   "execution_count": 55,
   "id": "17dc62db",
   "metadata": {},
   "outputs": [
    {
     "data": {
      "image/png": "[encoded data removed]",
      "text/plain": [
       "<Figure size 432x288 with 1 Axes>"
      ]
     },
     "metadata": {},
     "output_type": "display_data"
    }
   ],
   "source": [
    "g=nx.Graph()\n",
    "g.add_nodes_from(['cat','dog','virus',13])\n",
    "g.add_edge('cat','dog')\n",
    "nx.draw(g,with_labels=True,font_color='red',node_size=1000)"
   ]
  },
  {
   "cell_type": "code",
   "execution_count": 57,
   "id": "783fbe91",
   "metadata": {},
   "outputs": [
    {
     "data": {
      "image/png": "[encoded data removed]",
      "text/plain": [
       "<Figure size 432x288 with 1 Axes>"
      ]
     },
     "metadata": {},
     "output_type": "display_data"
    }
   ],
   "source": [
    "d=nx.DiGraph()\n",
    "d.add_edges_from([(1,2),(2,3),(3,2),(3,4),(3,5),(4,5),(4,6),(5,6),(6,4),(6,2)])\n",
    "nx.draw(d,with_labels=True)"
   ]
  },
  {
   "cell_type": "code",
   "execution_count": 58,
   "id": "07e58c30",
   "metadata": {},
   "outputs": [
    {
     "data": {
      "text/plain": [
       "True"
      ]
     },
     "execution_count": 58,
     "metadata": {},
     "output_type": "execute_result"
    }
   ],
   "source": [
    "d.has_edge(1,2)"
   ]
  },
  {
   "cell_type": "code",
   "execution_count": 59,
   "id": "9f4996b9",
   "metadata": {},
   "outputs": [
    {
     "data": {
      "text/plain": [
       "False"
      ]
     },
     "execution_count": 59,
     "metadata": {},
     "output_type": "execute_result"
    }
   ],
   "source": [
    "d.has_edge(2,1)"
   ]
  },
  {
   "cell_type": "code",
   "execution_count": 61,
   "id": "120e6dc3",
   "metadata": {},
   "outputs": [
    {
     "name": "stdout",
     "output_type": "stream",
     "text": [
      "Successors of 2: [3]\n",
      "Predecessors of 2: [1, 3, 6]\n"
     ]
    }
   ],
   "source": [
    "print('Successors of 2:', list(d.successors(2)))\n",
    "\n",
    "print('Predecessors of 2:', list(d.predecessors(2)))"
   ]
  },
  {
   "cell_type": "code",
   "execution_count": 63,
   "id": "013074f2",
   "metadata": {},
   "outputs": [
    {
     "data": {
      "text/plain": [
       "3"
      ]
     },
     "execution_count": 63,
     "metadata": {},
     "output_type": "execute_result"
    }
   ],
   "source": [
    "d.in_degree(2)"
   ]
  },
  {
   "cell_type": "code",
   "execution_count": 64,
   "id": "f79e0d2a",
   "metadata": {},
   "outputs": [
    {
     "data": {
      "text/plain": [
       "1"
      ]
     },
     "execution_count": 64,
     "metadata": {},
     "output_type": "execute_result"
    }
   ],
   "source": [
    "d.out_degree(2)"
   ]
  },
  {
   "cell_type": "code",
   "execution_count": 65,
   "id": "22ec195e",
   "metadata": {},
   "outputs": [
    {
     "data": {
      "text/plain": [
       "4"
      ]
     },
     "execution_count": 65,
     "metadata": {},
     "output_type": "execute_result"
    }
   ],
   "source": [
    "d.degree(2)"
   ]
  },
  {
   "cell_type": "code",
   "execution_count": 66,
   "id": "40704795",
   "metadata": {},
   "outputs": [
    {
     "name": "stdout",
     "output_type": "stream",
     "text": [
      "Successors of 2: [3]\n",
      "Predecessors of 2: [1, 3, 6]\n"
     ]
    }
   ],
   "source": [
    "print('Successors of 2:', list(d.successors(2)))\n",
    "\n",
    "print('Predecessors of 2:', list(d.predecessors(2)))"
   ]
  },
  {
   "cell_type": "code",
   "execution_count": null,
   "id": "ac9b1d07",
   "metadata": {},
   "outputs": [],
   "source": []
  }
 ],
 "metadata": {
  "kernelspec": {
   "display_name": "Python 3 (ipykernel)",
   "language": "python",
   "name": "python3"
  },
  "language_info": {
   "codemirror_mode": {
    "name": "ipython",
    "version": 3
   },
   "file_extension": ".py",
   "mimetype": "text/x-python",
   "name": "python",
   "nbconvert_exporter": "python",
   "pygments_lexer": "ipython3",
   "version": "3.9.7"
  }
 },
 "nbformat": 4,
 "nbformat_minor": 5
}

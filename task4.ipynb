{
 "cells": [
  {
   "cell_type": "code",
   "execution_count": 1,
   "id": "7d1c0efd",
   "metadata": {},
   "outputs": [],
   "source": [
    "import networkx as nx\n",
    "%matplotlib inline"
   ]
  },
  {
   "cell_type": "code",
   "execution_count": 4,
   "id": "a9e4b036",
   "metadata": {},
   "outputs": [
    {
     "name": "stdout",
     "output_type": "stream",
     "text": [
      "Graph with 143 nodes and 623 edges\n"
     ]
    },
    {
     "data": {
      "image/png": "[encoded data removed]",
      "text/plain": [
       "<Figure size 432x288 with 1 Axes>"
      ]
     },
     "metadata": {},
     "output_type": "display_data"
    }
   ],
   "source": [
    "g=nx.read_edgelist('ia-enron-only.edges')\n",
    "print(nx.info(g))\n",
    "nx.draw(g)"
   ]
  },
  {
   "cell_type": "code",
   "execution_count": 5,
   "id": "1a7d4bbc",
   "metadata": {},
   "outputs": [
    {
     "data": {
      "text/plain": [
       "5"
      ]
     },
     "execution_count": 5,
     "metadata": {},
     "output_type": "execute_result"
    }
   ],
   "source": [
    "max([1,2,3,4,5])"
   ]
  },
  {
   "cell_type": "code",
   "execution_count": 6,
   "id": "d6d102e3",
   "metadata": {},
   "outputs": [
    {
     "data": {
      "text/plain": [
       "'grabe'"
      ]
     },
     "execution_count": 6,
     "metadata": {},
     "output_type": "execute_result"
    }
   ],
   "source": [
    "max(['apple','grabe','carrots'])"
   ]
  },
  {
   "cell_type": "code",
   "execution_count": 8,
   "id": "c6e0c001",
   "metadata": {},
   "outputs": [
    {
     "data": {
      "text/plain": [
       "'carrots'"
      ]
     },
     "execution_count": 8,
     "metadata": {},
     "output_type": "execute_result"
    }
   ],
   "source": [
    "max(['apple','grabe','carrots'],key=len)"
   ]
  },
  {
   "cell_type": "code",
   "execution_count": 10,
   "id": "438163fa",
   "metadata": {},
   "outputs": [
    {
     "data": {
      "text/plain": [
       "'105'"
      ]
     },
     "execution_count": 10,
     "metadata": {},
     "output_type": "execute_result"
    }
   ],
   "source": [
    "#Finding the node with max degree\n",
    "h_degree_node=max(g.nodes,key=g.degree)\n",
    "h_degree_node"
   ]
  },
  {
   "cell_type": "code",
   "execution_count": 11,
   "id": "556a9bf9",
   "metadata": {},
   "outputs": [
    {
     "data": {
      "text/plain": [
       "42"
      ]
     },
     "execution_count": 11,
     "metadata": {},
     "output_type": "execute_result"
    }
   ],
   "source": [
    "g.degree(h_degree_node)"
   ]
  },
  {
   "cell_type": "code",
   "execution_count": 15,
   "id": "baa5688e",
   "metadata": {},
   "outputs": [
    {
     "data": {
      "text/plain": [
       "'105'"
      ]
     },
     "execution_count": 15,
     "metadata": {},
     "output_type": "execute_result"
    }
   ],
   "source": [
    "between = nx.centrality.betweenness_centrality(g)\n",
    "highest_between_node = max(g.nodes, key=between.get)\n",
    "highest_between_node"
   ]
  },
  {
   "cell_type": "code",
   "execution_count": 17,
   "id": "69522630",
   "metadata": {},
   "outputs": [
    {
     "data": {
      "text/plain": [
       "0.19400604344556296"
      ]
     },
     "execution_count": 17,
     "metadata": {},
     "output_type": "execute_result"
    }
   ],
   "source": [
    "between[highest_between_node]"
   ]
  },
  {
   "cell_type": "code",
   "execution_count": 18,
   "id": "d9395ce7",
   "metadata": {},
   "outputs": [
    {
     "ename": "TypeError",
     "evalue": "'dict' object is not callable",
     "output_type": "error",
     "traceback": [
      "\u001b[1;31m---------------------------------------------------------------------------\u001b[0m",
      "\u001b[1;31mTypeError\u001b[0m                                 Traceback (most recent call last)",
      "\u001b[1;32m~\\AppData\\Local\\Temp/ipykernel_8600/2152523165.py\u001b[0m in \u001b[0;36m<module>\u001b[1;34m\u001b[0m\n\u001b[1;32m----> 1\u001b[1;33m \u001b[0mmax\u001b[0m\u001b[1;33m(\u001b[0m\u001b[0mg\u001b[0m\u001b[1;33m.\u001b[0m\u001b[0mnodes\u001b[0m\u001b[1;33m,\u001b[0m\u001b[0mkey\u001b[0m\u001b[1;33m=\u001b[0m\u001b[0mbetween\u001b[0m\u001b[1;33m)\u001b[0m\u001b[1;33m\u001b[0m\u001b[1;33m\u001b[0m\u001b[0m\n\u001b[0m",
      "\u001b[1;31mTypeError\u001b[0m: 'dict' object is not callable"
     ]
    }
   ],
   "source": [
    "max(g.nodes,key=between)"
   ]
  },
  {
   "cell_type": "code",
   "execution_count": 19,
   "id": "70495344",
   "metadata": {},
   "outputs": [],
   "source": [
    "#2. Centrality distributions\n",
    "degree_seq=[g.degree(n)for n in g.nodes]"
   ]
  },
  {
   "cell_type": "code",
   "execution_count": 20,
   "id": "94ece04b",
   "metadata": {},
   "outputs": [
    {
     "name": "stdout",
     "output_type": "stream",
     "text": [
      "mean degree: 8.713286713286713\n",
      "median degree: 8\n"
     ]
    }
   ],
   "source": [
    "import statistics\n",
    "print('mean degree:',statistics.mean(degree_seq))\n",
    "print('median degree:',statistics.median(degree_seq))"
   ]
  },
  {
   "cell_type": "code",
   "execution_count": 22,
   "id": "8a83ee2e",
   "metadata": {},
   "outputs": [
    {
     "name": "stdout",
     "output_type": "stream",
     "text": [
      "Mean betweenness: 0.013950388838012454\n",
      "Median betweenness: 0.0037492834763570323\n"
     ]
    }
   ],
   "source": [
    "betweenness = nx.centrality.betweenness_centrality(g)\n",
    "betweenness_sequence = list(betweenness.values())\n",
    "\n",
    "print('Mean betweenness:', statistics.mean(betweenness_sequence))\n",
    "print('Median betweenness:', statistics.median(betweenness_sequence))"
   ]
  },
  {
   "cell_type": "code",
   "execution_count": 25,
   "id": "c9cac057",
   "metadata": {},
   "outputs": [
    {
     "data": {
      "text/plain": [
       "Counter({30: 1,\n",
       "         2: 16,\n",
       "         17: 5,\n",
       "         12: 5,\n",
       "         13: 3,\n",
       "         16: 5,\n",
       "         10: 9,\n",
       "         11: 10,\n",
       "         18: 3,\n",
       "         20: 1,\n",
       "         15: 3,\n",
       "         19: 2,\n",
       "         7: 9,\n",
       "         14: 6,\n",
       "         9: 16,\n",
       "         42: 1,\n",
       "         8: 6,\n",
       "         5: 8,\n",
       "         6: 7,\n",
       "         1: 6,\n",
       "         4: 11,\n",
       "         23: 1,\n",
       "         3: 9})"
      ]
     },
     "execution_count": 25,
     "metadata": {},
     "output_type": "execute_result"
    }
   ],
   "source": [
    "#Plotting the distribution\n",
    "from collections import Counter\n",
    "degree_counts=Counter(degree_seq)\n",
    "degree_counts"
   ]
  },
  {
   "cell_type": "code",
   "execution_count": 29,
   "id": "e0892d76",
   "metadata": {},
   "outputs": [],
   "source": [
    "min_degree,max_degree=min(degree_counts.keys()),max(degree_counts.keys())\n",
    "plot_x=list( range(min_degree,max_degree+1))"
   ]
  },
  {
   "cell_type": "code",
   "execution_count": 30,
   "id": "cb7a3e5f",
   "metadata": {},
   "outputs": [],
   "source": [
    "plot_y = [degree_counts.get(x, 0) for x in plot_x]\n"
   ]
  },
  {
   "cell_type": "code",
   "execution_count": 31,
   "id": "2bf18243",
   "metadata": {},
   "outputs": [
    {
     "data": {
      "text/plain": [
       "<BarContainer object of 42 artists>"
      ]
     },
     "execution_count": 31,
     "metadata": {},
     "output_type": "execute_result"
    },
    {
     "data": {
      "image/png": "[encoded data removed]",
      "text/plain": [
       "<Figure size 432x288 with 1 Axes>"
      ]
     },
     "metadata": {
      "needs_background": "light"
     },
     "output_type": "display_data"
    }
   ],
   "source": [
    "import matplotlib.pyplot as plt\n",
    "\n",
    "plt.bar(plot_x, plot_y)"
   ]
  },
  {
   "cell_type": "code",
   "execution_count": 32,
   "id": "6ca2a322",
   "metadata": {},
   "outputs": [
    {
     "data": {
      "image/png": "[encoded data removed]",
      "text/plain": [
       "<Figure size 432x288 with 1 Axes>"
      ]
     },
     "metadata": {
      "needs_background": "light"
     },
     "output_type": "display_data"
    }
   ],
   "source": [
    "#Histogram binning\n",
    "counts,bins,patch=plt.hist(betweenness_sequence ,bins=10)"
   ]
  },
  {
   "cell_type": "code",
   "execution_count": 33,
   "id": "7d3a9a16",
   "metadata": {},
   "outputs": [
    {
     "data": {
      "text/plain": [
       "array([0.        , 0.0194006 , 0.03880121, 0.05820181, 0.07760242,\n",
       "       0.09700302, 0.11640363, 0.13580423, 0.15520483, 0.17460544,\n",
       "       0.19400604])"
      ]
     },
     "execution_count": 33,
     "metadata": {},
     "output_type": "execute_result"
    }
   ],
   "source": [
    "bins"
   ]
  },
  {
   "cell_type": "code",
   "execution_count": 34,
   "id": "743828e6",
   "metadata": {},
   "outputs": [
    {
     "data": {
      "text/plain": [
       "array([115.,  13.,   6.,   4.,   3.,   1.,   0.,   0.,   0.,   1.])"
      ]
     },
     "execution_count": 34,
     "metadata": {},
     "output_type": "execute_result"
    }
   ],
   "source": [
    "counts"
   ]
  },
  {
   "cell_type": "code",
   "execution_count": 36,
   "id": "1e17aa7b",
   "metadata": {},
   "outputs": [
    {
     "data": {
      "text/plain": [
       "<generator object connected_components at 0x000002644CEC20B0>"
      ]
     },
     "execution_count": 36,
     "metadata": {},
     "output_type": "execute_result"
    }
   ],
   "source": [
    "#3. Testing robustness\n",
    "nx.connected_components(g)"
   ]
  },
  {
   "cell_type": "code",
   "execution_count": 38,
   "id": "11e2426b",
   "metadata": {},
   "outputs": [
    {
     "data": {
      "text/plain": [
       "{'1',\n",
       " '10',\n",
       " '100',\n",
       " '101',\n",
       " '102',\n",
       " '103',\n",
       " '104',\n",
       " '105',\n",
       " '106',\n",
       " '107',\n",
       " '108',\n",
       " '109',\n",
       " '11',\n",
       " '110',\n",
       " '111',\n",
       " '112',\n",
       " '113',\n",
       " '114',\n",
       " '115',\n",
       " '116',\n",
       " '117',\n",
       " '118',\n",
       " '119',\n",
       " '12',\n",
       " '120',\n",
       " '121',\n",
       " '122',\n",
       " '123',\n",
       " '124',\n",
       " '125',\n",
       " '126',\n",
       " '127',\n",
       " '128',\n",
       " '129',\n",
       " '13',\n",
       " '130',\n",
       " '131',\n",
       " '132',\n",
       " '133',\n",
       " '134',\n",
       " '135',\n",
       " '136',\n",
       " '137',\n",
       " '138',\n",
       " '139',\n",
       " '14',\n",
       " '140',\n",
       " '141',\n",
       " '142',\n",
       " '143',\n",
       " '15',\n",
       " '16',\n",
       " '17',\n",
       " '18',\n",
       " '19',\n",
       " '2',\n",
       " '20',\n",
       " '21',\n",
       " '22',\n",
       " '23',\n",
       " '24',\n",
       " '25',\n",
       " '26',\n",
       " '27',\n",
       " '28',\n",
       " '29',\n",
       " '3',\n",
       " '30',\n",
       " '31',\n",
       " '32',\n",
       " '33',\n",
       " '34',\n",
       " '35',\n",
       " '36',\n",
       " '37',\n",
       " '38',\n",
       " '39',\n",
       " '4',\n",
       " '40',\n",
       " '41',\n",
       " '42',\n",
       " '43',\n",
       " '44',\n",
       " '45',\n",
       " '46',\n",
       " '47',\n",
       " '48',\n",
       " '49',\n",
       " '5',\n",
       " '50',\n",
       " '51',\n",
       " '52',\n",
       " '53',\n",
       " '54',\n",
       " '55',\n",
       " '56',\n",
       " '57',\n",
       " '58',\n",
       " '59',\n",
       " '6',\n",
       " '60',\n",
       " '61',\n",
       " '62',\n",
       " '63',\n",
       " '64',\n",
       " '65',\n",
       " '66',\n",
       " '67',\n",
       " '68',\n",
       " '69',\n",
       " '7',\n",
       " '70',\n",
       " '71',\n",
       " '72',\n",
       " '73',\n",
       " '74',\n",
       " '75',\n",
       " '76',\n",
       " '77',\n",
       " '78',\n",
       " '79',\n",
       " '8',\n",
       " '80',\n",
       " '81',\n",
       " '82',\n",
       " '83',\n",
       " '84',\n",
       " '85',\n",
       " '86',\n",
       " '87',\n",
       " '88',\n",
       " '89',\n",
       " '9',\n",
       " '90',\n",
       " '91',\n",
       " '92',\n",
       " '93',\n",
       " '94',\n",
       " '95',\n",
       " '96',\n",
       " '97',\n",
       " '98',\n",
       " '99'}"
      ]
     },
     "execution_count": 38,
     "metadata": {},
     "output_type": "execute_result"
    }
   ],
   "source": [
    "core = next(nx.connected_components(g))\n",
    "core"
   ]
  },
  {
   "cell_type": "code",
   "execution_count": 39,
   "id": "069523ba",
   "metadata": {},
   "outputs": [
    {
     "data": {
      "text/plain": [
       "143"
      ]
     },
     "execution_count": 39,
     "metadata": {},
     "output_type": "execute_result"
    }
   ],
   "source": [
    "len(core)"
   ]
  },
  {
   "cell_type": "code",
   "execution_count": 41,
   "id": "7fb2e165",
   "metadata": {},
   "outputs": [],
   "source": [
    "components=list(nx.connected_components(g))"
   ]
  },
  {
   "cell_type": "code",
   "execution_count": 42,
   "id": "dad2c13c",
   "metadata": {},
   "outputs": [
    {
     "data": {
      "text/plain": [
       "1"
      ]
     },
     "execution_count": 42,
     "metadata": {},
     "output_type": "execute_result"
    }
   ],
   "source": [
    "len(components)"
   ]
  },
  {
   "cell_type": "code",
   "execution_count": 47,
   "id": "51ae76ea",
   "metadata": {},
   "outputs": [],
   "source": [
    "#Random failure\n",
    "c=g.copy()"
   ]
  },
  {
   "cell_type": "code",
   "execution_count": 48,
   "id": "49148924",
   "metadata": {},
   "outputs": [],
   "source": [
    "import random\n",
    "\n",
    "nodes_to_remove = random.sample(list(c.nodes), 2)\n",
    "c.remove_nodes_from(nodes_to_remove)"
   ]
  },
  {
   "cell_type": "code",
   "execution_count": 50,
   "id": "340881d3",
   "metadata": {},
   "outputs": [
    {
     "data": {
      "text/plain": [
       "143"
      ]
     },
     "execution_count": 50,
     "metadata": {},
     "output_type": "execute_result"
    }
   ],
   "source": [
    "n_of_step=25\n",
    "m=g.number_of_nodes()\n",
    "m"
   ]
  },
  {
   "cell_type": "code",
   "execution_count": 52,
   "id": "001bc3b6",
   "metadata": {},
   "outputs": [],
   "source": [
    "num_nodes_removed = range(0, g.number_of_nodes(), m)\n"
   ]
  },
  {
   "cell_type": "code",
   "execution_count": 56,
   "id": "cc333290",
   "metadata": {},
   "outputs": [
    {
     "data": {
      "text/plain": [
       "[<matplotlib.lines.Line2D at 0x2644cf06970>]"
      ]
     },
     "execution_count": 56,
     "metadata": {},
     "output_type": "execute_result"
    },
    {
     "data": {
      "image/png": "[encoded data removed]",
      "text/plain": [
       "<Figure size 432x288 with 1 Axes>"
      ]
     },
     "metadata": {
      "needs_background": "light"
     },
     "output_type": "display_data"
    }
   ],
   "source": [
    "N = g.number_of_nodes()\n",
    "C = g.copy()\n",
    "random_attack_core_proportions = []\n",
    "for nodes_removed in num_nodes_removed:\n",
    "    core = next(nx.connected_components(C))\n",
    "    core_proportion = len(core) / N\n",
    "    random_attack_core_proportions.append(core_proportion)\n",
    "    \n",
    "    if C.number_of_nodes() > m:\n",
    "        nodes_to_remove = random.sample(list(C.nodes), m)\n",
    "        C.remove_nodes_from(nodes_to_remove)\n",
    "plt.title('Random failure')\n",
    "plt.xlabel('Number of nodes removed')\n",
    "plt.ylabel('Proportion of nodes in core')\n",
    "plt.plot(num_nodes_removed, random_attack_core_proportions, marker='o')"
   ]
  },
  {
   "cell_type": "code",
   "execution_count": 58,
   "id": "3911080c",
   "metadata": {},
   "outputs": [
    {
     "data": {
      "text/plain": [
       "['105',\n",
       " '17',\n",
       " '95',\n",
       " '48',\n",
       " '132',\n",
       " '43',\n",
       " '31',\n",
       " '74',\n",
       " '91',\n",
       " '72',\n",
       " '20',\n",
       " '136',\n",
       " '124',\n",
       " '32',\n",
       " '19',\n",
       " '67',\n",
       " '69',\n",
       " '47',\n",
       " '50',\n",
       " '65',\n",
       " '75',\n",
       " '118',\n",
       " '22',\n",
       " '56',\n",
       " '37',\n",
       " '53',\n",
       " '122',\n",
       " '60',\n",
       " '2',\n",
       " '64',\n",
       " '123',\n",
       " '3',\n",
       " '9',\n",
       " '101',\n",
       " '121',\n",
       " '77',\n",
       " '29',\n",
       " '71',\n",
       " '4',\n",
       " '13',\n",
       " '26',\n",
       " '66',\n",
       " '51',\n",
       " '68',\n",
       " '100',\n",
       " '142',\n",
       " '27',\n",
       " '28',\n",
       " '16',\n",
       " '49',\n",
       " '137',\n",
       " '115',\n",
       " '18',\n",
       " '35',\n",
       " '125',\n",
       " '6',\n",
       " '112',\n",
       " '139',\n",
       " '14',\n",
       " '85',\n",
       " '107',\n",
       " '39',\n",
       " '58',\n",
       " '104',\n",
       " '141',\n",
       " '90',\n",
       " '99',\n",
       " '109',\n",
       " '143',\n",
       " '130',\n",
       " '102',\n",
       " '11',\n",
       " '24',\n",
       " '10',\n",
       " '73',\n",
       " '41',\n",
       " '119',\n",
       " '54',\n",
       " '78',\n",
       " '70',\n",
       " '82',\n",
       " '111',\n",
       " '120',\n",
       " '134',\n",
       " '117',\n",
       " '57',\n",
       " '12',\n",
       " '21',\n",
       " '36',\n",
       " '61',\n",
       " '76',\n",
       " '86',\n",
       " '129',\n",
       " '7',\n",
       " '40',\n",
       " '83',\n",
       " '126',\n",
       " '23',\n",
       " '103',\n",
       " '94',\n",
       " '110',\n",
       " '25',\n",
       " '55',\n",
       " '30',\n",
       " '44',\n",
       " '45',\n",
       " '108',\n",
       " '131',\n",
       " '79',\n",
       " '116',\n",
       " '84',\n",
       " '106',\n",
       " '128',\n",
       " '38',\n",
       " '33',\n",
       " '87',\n",
       " '34',\n",
       " '59',\n",
       " '46',\n",
       " '114',\n",
       " '127',\n",
       " '1',\n",
       " '5',\n",
       " '8',\n",
       " '140',\n",
       " '81',\n",
       " '89',\n",
       " '52',\n",
       " '62',\n",
       " '135',\n",
       " '97',\n",
       " '113',\n",
       " '133',\n",
       " '88',\n",
       " '93',\n",
       " '96',\n",
       " '138',\n",
       " '15',\n",
       " '42',\n",
       " '63',\n",
       " '80',\n",
       " '92',\n",
       " '98']"
      ]
     },
     "execution_count": 58,
     "metadata": {},
     "output_type": "execute_result"
    }
   ],
   "source": [
    "nodes_sorted_by_degree = sorted(g.nodes, key=g.degree, reverse=True)\n",
    "top_degree_nodes = nodes_sorted_by_degree[:m]\n",
    "top_degree_nodes"
   ]
  },
  {
   "cell_type": "code",
   "execution_count": 59,
   "id": "7f6f7cec",
   "metadata": {},
   "outputs": [],
   "source": [
    "N = g.number_of_nodes()\n",
    "number_of_steps = 25\n",
    "M = N // number_of_steps\n",
    "\n",
    "num_nodes_removed = range(0, N, M)\n",
    "C = g.copy()\n",
    "targeted_attack_core_proportions = []\n",
    "for nodes_removed in num_nodes_removed:\n",
    "    core = next(nx.connected_components(C))\n",
    "    core_proportion = len(core) / N\n",
    "    targeted_attack_core_proportions.append(core_proportion)\n",
    "    \n",
    "    if C.number_of_nodes() > M:\n",
    "        nodes_sorted_by_degree = sorted(C.nodes, key=C.degree, reverse=True)\n",
    "        nodes_to_remove = nodes_sorted_by_degree[:M]\n",
    "        C.remove_nodes_from(nodes_to_remove)"
   ]
  },
  {
   "cell_type": "code",
   "execution_count": 60,
   "id": "b3603256",
   "metadata": {},
   "outputs": [
    {
     "data": {
      "text/plain": [
       "[<matplotlib.lines.Line2D at 0x2644cfcc820>]"
      ]
     },
     "execution_count": 60,
     "metadata": {},
     "output_type": "execute_result"
    },
    {
     "data": {
      "image/png": "[encoded data removed]",
      "text/plain": [
       "<Figure size 432x288 with 1 Axes>"
      ]
     },
     "metadata": {
      "needs_background": "light"
     },
     "output_type": "display_data"
    }
   ],
   "source": [
    "plt.title('Targeted attack')\n",
    "plt.xlabel('Number of nodes removed')\n",
    "plt.ylabel('Proportion of nodes in core')\n",
    "plt.plot(num_nodes_removed, targeted_attack_core_proportions, marker='o')"
   ]
  },
  {
   "cell_type": "code",
   "execution_count": null,
   "id": "04641c42",
   "metadata": {},
   "outputs": [],
   "source": [
    "plt.title('Random failure vs. targeted attack')\n",
    "plt.xlabel('Number of nodes removed')\n",
    "plt.ylabel('Proportion of nodes in core')\n",
    "plt.plot(num_nodes_removed, random_attack_core_proportions, marker='o', label='Failures')\n",
    "plt.plot(num_nodes_removed, targeted_attack_core_proportions, marker='^', label='Attacks')\n",
    "plt.legend()"
   ]
  }
 ],
 "metadata": {
  "kernelspec": {
   "display_name": "Python 3 (ipykernel)",
   "language": "python",
   "name": "python3"
  },
  "language_info": {
   "codemirror_mode": {
    "name": "ipython",
    "version": 3
   },
   "file_extension": ".py",
   "mimetype": "text/x-python",
   "name": "python",
   "nbconvert_exporter": "python",
   "pygments_lexer": "ipython3",
   "version": "3.9.7"
  }
 },
 "nbformat": 4,
 "nbformat_minor": 5
}
